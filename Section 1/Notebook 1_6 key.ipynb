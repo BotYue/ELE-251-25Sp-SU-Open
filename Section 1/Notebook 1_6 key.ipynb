{
 "cells": [
  {
   "cell_type": "markdown",
   "metadata": {},
   "source": [
    "# Notebook 1_6"
   ]
  },
  {
   "cell_type": "markdown",
   "metadata": {},
   "source": [
    "## Laplace Transform and Partial Fractions"
   ]
  },
  {
   "cell_type": "markdown",
   "metadata": {},
   "source": [
    "#### Student Learning Outcomes\n",
    "* Learn use Laplace Transform to solve first order diff equation\n",
    "* Learn the Partial Fractions calculation by hand\n",
    "\n",
    "--------------------"
   ]
  },
  {
   "cell_type": "markdown",
   "metadata": {},
   "source": [
    "In Notebook 1_5, you already see an example of using Laplace Transform to solve a diff equation.\n",
    "\n",
    "* Laplace Transform is denoted as $\\mathcal{L}(.....)$\n",
    "* Inverse Laplace Transform is denoted as $\\mathcal{L}^{-1}(.....)$\n",
    "\n",
    "If you search \"Laplace Transform Table\" online, they are lots of .pdf files avaiable.\n",
    "\n",
    "----------------------\n",
    "\n",
    "In this section, you only need to understand the following Transforms:"
   ]
  },
  {
   "cell_type": "markdown",
   "metadata": {},
   "source": [
    "#### 1) Time-dependent variables\n",
    "\n",
    "* For all time-dependent variables ..(t), direct write as ..(s). \n",
    "* Commonly use Uppercase in Laplace domain\n",
    "\n",
    "For example,\n",
    "\n",
    "| Time domain | Laplace domain |\n",
    "| -------- | ------- |\n",
    "| $x(t)$  | $X(s)$    | \n",
    "| $y(t)$ | $Y(s)$     |"
   ]
  },
  {
   "cell_type": "markdown",
   "metadata": {},
   "source": [
    "#### 2) Signals\n",
    "\n",
    "| Time domain | Laplace domain | Note|\n",
    "| -------- | ------- | ------|\n",
    "| $\\delta(t)$ |  1 | unit impulse|\n",
    "| $u(t)$  | $\\frac{1}{s}$    | unit step|\n",
    "| $t$ | $\\frac{1}{s^2}$     | unit ramp|\n",
    "| $e^{at}$| $\\frac{1}{s-a}$| exponential. $a$ is constant|"
   ]
  },
  {
   "cell_type": "markdown",
   "metadata": {},
   "source": [
    "#### 3) Operations\n",
    "\n",
    "* In this table, $f(t)$, $g(t)$ refer to any Time-dependent variables, such as commonly used $x(t)$, $y(t)$, ...\n",
    "* In many Laplace table online, they commonly combine the row 1 abd row 2 in our table:   \n",
    "Time domain $af(t)+bg(t)$, Laplace domain $aF(s)+bG(s)$, called Linearity  \n",
    "they are essentially the same as our table.\n",
    "* In this course, we assumer Zero initial condition for derivative"
   ]
  },
  {
   "cell_type": "markdown",
   "metadata": {},
   "source": [
    "| Time domain | Laplace domain | Note |\n",
    "|------------|---------------|------|\n",
    "| $af(t)$ | $aF(s)$ | Constant times a time-dependent variable |\n",
    "| $f(t)+g(t)$ | $F(s)+G(s)$ | Add 2 Time-dependent variables |\n",
    "| $\\frac{df(t)}{dt}$ | $sF(s)-f(0)$ | First derivative |\n",
    "| $\\int_0^t f(\\tau) d\\tau$ | $\\frac{F(s)}{s}$ | Integral |\n"
   ]
  },
  {
   "cell_type": "markdown",
   "metadata": {},
   "source": [
    "<div style=\"border-left: 4px solid #28a745; padding: 10px; background-color: #f9fff3; margin-top: 10px;\">\n",
    "  <h2 style=\"margin: 0;\">Task 1: Solve Diff Equation using Laplace Transform</h2>\n",
    "</div>"
   ]
  },
  {
   "cell_type": "markdown",
   "metadata": {},
   "source": [
    "For such system:\n",
    "* system model is first order: $\\frac{dy(t)}{dt}+3y(t)=5x(t)$\n",
    "* system input is step signal: $x(t) = 2u(t)$\n",
    "* aim to solve for system output $y(t)$"
   ]
  },
  {
   "cell_type": "markdown",
   "metadata": {},
   "source": [
    "### **Step 1: Transform to the Laplace domain**\n"
   ]
  },
  {
   "cell_type": "markdown",
   "metadata": {},
   "source": [
    "In this Markdown cell, edit all ?? to your answers.\n",
    "\n",
    "System model equation: \n",
    "* $\\mathcal{L}(\\frac{dy(t)}{dt})= sY(s) $\n",
    "* $\\mathcal{L}(3y(t))= 3Y(s) $\n",
    "* $\\mathcal{L}(5x(t))= 5X(s) $\n",
    "\n",
    "Input signal:\n",
    "* $X(s) = \\mathcal{L}(2u(t))= \\frac{2}{s} $"
   ]
  },
  {
   "cell_type": "markdown",
   "metadata": {},
   "source": [
    "<span style=\"border-left: 4px solid #FFA500; padding: 5px; background-color: #FFF4E5; display: inline-block;\">\n",
    "    <strong>Laplace transform: 1 pt</strong>\n",
    "</span>"
   ]
  },
  {
   "cell_type": "markdown",
   "metadata": {},
   "source": [
    "### **Step 2: Solve for Output in the Laplace domain**\n",
    "\n",
    "After Laplace transform, write down the previous diff equation in Laplace. Also plug in the value of $X(s)$:\n",
    "\n",
    "$$ sY(s)+3Y(s)=\\frac{10}{s} $$\n",
    "\n",
    "Re-arrange into:\n",
    "\n",
    "$$ Y(s) = \\frac{10}{s(s+3)}  $$"
   ]
  },
  {
   "cell_type": "markdown",
   "metadata": {},
   "source": [
    "<span style=\"border-left: 4px solid #FFA500; padding: 5px; background-color: #FFF4E5; display: inline-block;\">\n",
    "    <strong>Equation in Laplace: 1 pt</strong>\n",
    "</span>"
   ]
  },
  {
   "cell_type": "markdown",
   "metadata": {},
   "source": [
    "You can notice your answer is in a form of such fraction: \n",
    "\n",
    "$$\\frac{...}{(s+...)(s+...)}$$\n",
    "\n",
    "For such fraction, we cannot find a corresponding transform in Table 2) Signals.\n",
    "\n",
    "We need to split into such form:\n",
    "\n",
    "$$\\frac{...}{(s+...)}+\\frac{...}{(s+...)}$$\n",
    "\n",
    "It requires a calculation called **Partial Fraction**. We will cover this calculation in Task 2.\n",
    "\n",
    "Right now, let's first use ChatGPT to get answer."
   ]
  },
  {
   "cell_type": "markdown",
   "metadata": {},
   "source": [
    "------------\n",
    "> Copy and Paste these 2 lines into ChatGPT,\n",
    "<br>also based on your last answer, revise the question mark in Line 2:\n",
    "```markdown\n",
    "* Laplace equation: $$Y(s)= \\frac{10}{s(s+3)} $$\n",
    "* Perform Partial Fraction\n",
    "```\n",
    "----------\n",
    "Create a Markdown cell and provide the final answer from ChatGPT"
   ]
  },
  {
   "cell_type": "markdown",
   "metadata": {},
   "source": [
    "$$Y(s) = \\frac{10}{3}(\\frac{1}{s}-\\frac{1}{s+3})$$"
   ]
  },
  {
   "cell_type": "markdown",
   "metadata": {},
   "source": [
    "<span style=\"border-left: 4px solid #FFA500; padding: 5px; background-color: #FFF4E5; display: inline-block;\">\n",
    "    <strong>Partial Fraction result: 0.5 pt</strong>\n",
    "</span>"
   ]
  },
  {
   "cell_type": "markdown",
   "metadata": {},
   "source": [
    "### **Step 3: Inverse Laplace Transform to the time domain**\n",
    "\n",
    "\n",
    "Again looking-up the Laplace Transform table, write down the output in time domain,\n",
    "\n",
    "\n",
    "  $$y(t) = \\frac{10}{3}u(t)-\\frac{10}{3}e^{-3t}$$"
   ]
  },
  {
   "cell_type": "markdown",
   "metadata": {},
   "source": [
    "<span style=\"border-left: 4px solid #FFA500; padding: 5px; background-color: #FFF4E5; display: inline-block;\">\n",
    "    <strong>Final result: 0.5 pt</strong>\n",
    "</span>"
   ]
  },
  {
   "cell_type": "markdown",
   "metadata": {},
   "source": [
    "<div style=\"border-left: 4px solid #28a745; padding: 10px; background-color: #f9fff3; margin-top: 10px;\">\n",
    "  <h2 style=\"margin: 0;\">Task 2: Hand Calculate Partial Fraction Example</h2>\n",
    "</div>"
   ]
  },
  {
   "cell_type": "markdown",
   "metadata": {},
   "source": [
    "In the previous task, we use ChatGPT to get the result of Partial Fraction.\n",
    "\n",
    "In this course, you need to know how to **hand calculate** simple partial fraction of **second degree polynomial denominator**."
   ]
  },
  {
   "cell_type": "markdown",
   "metadata": {},
   "source": [
    "For example:\n",
    "\n",
    "$$\\frac{20s+6}{(s+2)(s+4)}$$"
   ]
  },
  {
   "cell_type": "markdown",
   "metadata": {},
   "source": [
    "**First, Assume Partial Fraction Form** \n",
    "\n",
    "$$\\frac{20s+6}{(s+2)(s+4)} = \\frac{A}{s+2}+\\frac{B}{s+4}$$\n",
    "\n",
    "here, $A$ and $B$ are 2 unknow constants."
   ]
  },
  {
   "cell_type": "markdown",
   "metadata": {},
   "source": [
    "**Second, Multiply by the Denominator**\n",
    "\n",
    "$$\\frac{20s+6}{(s+2)(s+4)} = \\frac{A}{s+2}+\\frac{B}{s+4} = \\frac{A(s+4)+B(s+2)}{(s+2)(s+4)}$$ \n",
    "\n",
    "$$= \\frac{As+4A+Bs+2B}{(s+2)(s+4)}=\\frac{(A+B)s+4A+2B}{(s+2)(s+4)}$$"
   ]
  },
  {
   "cell_type": "markdown",
   "metadata": {},
   "source": [
    "**Third, Solve for $A$ and $B$ by equating coefficients:**\n",
    "\n",
    "* For the $s$ term coefficient: $20 = A+B$\n",
    "* For the constant term coefficient: $6 = 4A+2B$\n",
    "\n",
    "So, $A= -17 $, $B= 37 $"
   ]
  },
  {
   "cell_type": "markdown",
   "metadata": {
    "tags": []
   },
   "source": [
    "<span style=\"border-left: 4px solid #FFA500; padding: 5px; background-color: #FFF4E5; display: inline-block;\">\n",
    "    <strong>A B values: 1 pt</strong>\n",
    "</span>"
   ]
  },
  {
   "cell_type": "markdown",
   "metadata": {},
   "source": [
    "**Finally, we get:**\n",
    "\n",
    "$$\\frac{20s+6}{(s+2)(s+4)} = \\frac{-17}{s+2}+\\frac{37}{s+4}$$"
   ]
  },
  {
   "cell_type": "markdown",
   "metadata": {
    "tags": []
   },
   "source": [
    "<span style=\"border-left: 4px solid #FFA500; padding: 5px; background-color: #FFF4E5; display: inline-block;\">\n",
    "    <strong>final expression: 1 pt</strong>\n",
    "</span>"
   ]
  },
  {
   "cell_type": "markdown",
   "metadata": {},
   "source": [
    "<div style=\"border-left: 4px solid #28a745; padding: 10px; background-color: #f9fff3; margin-top: 10px;\">\n",
    "  <h2 style=\"margin: 0;\">Submit in .pdf</h2>\n",
    "</div>\n",
    "\n",
    "\n"
   ]
  },
  {
   "cell_type": "code",
   "execution_count": null,
   "metadata": {},
   "outputs": [],
   "source": []
  }
 ],
 "metadata": {
  "kernelspec": {
   "display_name": "Python 3 (ipykernel)",
   "language": "python",
   "name": "python3"
  },
  "language_info": {
   "codemirror_mode": {
    "name": "ipython",
    "version": 3
   },
   "file_extension": ".py",
   "mimetype": "text/x-python",
   "name": "python",
   "nbconvert_exporter": "python",
   "pygments_lexer": "ipython3",
   "version": "3.11.5"
  }
 },
 "nbformat": 4,
 "nbformat_minor": 4
}
