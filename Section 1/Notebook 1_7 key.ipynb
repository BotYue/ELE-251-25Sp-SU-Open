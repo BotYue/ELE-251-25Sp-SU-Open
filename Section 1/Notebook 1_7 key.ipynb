{
 "cells": [
  {
   "cell_type": "markdown",
   "metadata": {},
   "source": [
    "# Notebook 1_7"
   ]
  },
  {
   "cell_type": "markdown",
   "metadata": {},
   "source": [
    "## Transfer Function and Scipy Plot"
   ]
  },
  {
   "cell_type": "markdown",
   "metadata": {},
   "source": [
    "#### Student Learning Outcomes\n",
    "* Learn the concept of Transfer Function\n",
    "* Learn to input Transfer Function using Python Scipy.\n",
    "* Learn to plot system response using Python Scipy.\n",
    "\n",
    "--------------------"
   ]
  },
  {
   "cell_type": "code",
   "execution_count": 1,
   "metadata": {
    "tags": []
   },
   "outputs": [],
   "source": [
    "# import at first\n",
    "import numpy as np\n",
    "import matplotlib.pyplot as plt\n"
   ]
  },
  {
   "cell_type": "markdown",
   "metadata": {},
   "source": [
    "In general, a system in Time domain has,\n",
    "\n",
    "* Input $x(t)$\n",
    "* Output $y(t)$\n",
    "* System model: diff equation, such as form like $\\frac{dy(t)}{dt}+3y(t)=x(t)$ "
   ]
  },
  {
   "cell_type": "markdown",
   "metadata": {},
   "source": [
    "Equivalently, a system in Laplace domain has,\n",
    "* Input $X(s)$\n",
    "* Output $Y(s)$\n",
    "* System model: Laplace Transformed equation, such as form like $sY(s)+3Y(s)=X(s)$ "
   ]
  },
  {
   "cell_type": "markdown",
   "metadata": {},
   "source": [
    "-------\n",
    "\n",
    "In Laplace domain, engineers typically don't write a model in a such equation form -- $sY(s)+3Y(s)=X(s)$ \n",
    "\n",
    "To provide a clearer representation, especially highlighting the input-output relationship, engineers will re-arrange the transformed equation, re-write in such fraction form:\n",
    "\n",
    "$$\\frac{Y(s)}{X(s)}=\\frac{1}{s+3}$$\n",
    "\n",
    "Such form is called **Transfer Function**."
   ]
  },
  {
   "cell_type": "markdown",
   "metadata": {},
   "source": [
    "--------\n",
    "Formally, the **Transfer Function** of a system is defined as:\n",
    "\n",
    "$$H(s) = \\frac{Y(s)}{X(s)}$$\n",
    "\n",
    "* $H(s)$ is a commonly used notation for Transfer Function\n",
    "* $ X(s) $ is the **Laplace transform** of the system input $ x(t) $,\n",
    "* $ Y(s) $ is the **Laplace transform** of the system output $ y(t) $.\n",
    "* The system assumes **Zero initial condition**\n",
    "\n",
    "We always make **the coefficient of the highest-degree term in the denominator to 1.** This ensures a consistency and standard form when analyzing systems."
   ]
  },
  {
   "cell_type": "markdown",
   "metadata": {},
   "source": [
    "For example, \n",
    "\n",
    "* **first-order transfer function** should be written as:\n",
    "$\\frac{1}{s+3}$, Not $\\frac{3}{3s+9}$ or $\\frac{\\frac{1}{3}}{\\frac{s}{3}+1}$.\n",
    "* **second-order transfer function** should be written as:\n",
    " $\\frac{5}{s^2 + 4s + 6}$, Not $\\frac{10}{2s^2 + 8s + 12}$ or $\\frac{\\frac{5}{2}}{\\frac{s^2}{2} + 2s + 3}$"
   ]
  },
  {
   "cell_type": "markdown",
   "metadata": {},
   "source": [
    "<div style=\"border-left: 4px solid #28a745; padding: 10px; background-color: #f9fff3; margin-top: 10px;\">\n",
    "  <h2 style=\"margin: 0;\">Task 1: Transfer Function</h2>\n",
    "</div>\n",
    "\n",
    "**Example 1**\n",
    "\n",
    "Recall the Notebook 1_3, we have this diff equation that describes the pool ball's motion:\n",
    "\n",
    " $$ m \\cdot \\frac{dv(t)}{dt} + b \\cdot v(t) = F_\\text{hit}(t) $$"
   ]
  },
  {
   "cell_type": "markdown",
   "metadata": {},
   "source": [
    "Apply Laplace Transform to this diff equation:\n",
    " $$ msV(s) + bV(s) = F_{\\mathrm{hit}}(s) $$\n",
    "\n",
    "Re-arrange the equation into a Transform Function form, with ball velocity $V(s)$ as output, hit force $F_{hit}(s)$ as input.\n",
    "\n",
    " $$H(s)=\\frac{V(s)}{F_{hit}(s)} = \\frac{1}{ms+b} = \\frac{1/m}{s+b/m} $$"
   ]
  },
  {
   "cell_type": "markdown",
   "metadata": {},
   "source": [
    "<span style=\"border-left: 4px solid #FFA500; padding: 5px; background-color: #FFF4E5; display: inline-block;\">\n",
    "    <strong>Result: 1 pt</strong>\n",
    "</span>"
   ]
  },
  {
   "cell_type": "markdown",
   "metadata": {},
   "source": [
    "------\n",
    "**Example 2**\n",
    "\n",
    "Recall the Notebook 1_4, we have this diff equation that describes the heating of car inside:\n",
    "\n",
    " $$C\\frac{dT(t)}{dt}+GT(t)=\\dot Q(t)$$"
   ]
  },
  {
   "cell_type": "markdown",
   "metadata": {},
   "source": [
    "Apply Laplace Transform to this diff equation:\n",
    " $$ CsT(s) + GT(s) = \\dot Q(s) $$\n",
    "\n",
    "Re-arrange the equation into a Transform Function form, with temperature difference $T(s)$ as output, heater power $\\dot Q(s)$ as input.\n",
    "\n",
    " $$H(s)=\\frac{T(s)}{\\dot Q(s)} = \\frac{1}{Cs+G} = \\frac{1/C}{s+G/C} $$"
   ]
  },
  {
   "cell_type": "markdown",
   "metadata": {},
   "source": [
    "<span style=\"border-left: 4px solid #FFA500; padding: 5px; background-color: #FFF4E5; display: inline-block;\">\n",
    "    <strong>Result: 1 pt</strong>\n",
    "</span>"
   ]
  },
  {
   "cell_type": "markdown",
   "metadata": {},
   "source": [
    "In summary, you should notice that a **Transfer Function** only contains parameters related to the **system model**, not the **input**.  \n",
    "\n",
    "* Example 1, mass $m$ and friction coeffient $b$ are only related with system model.\n",
    "* Example 2, thermal capacitance $C$ and thermal conductance $G$ are only related with system model."
   ]
  },
  {
   "cell_type": "markdown",
   "metadata": {},
   "source": [
    "<div style=\"border-left: 4px solid #28a745; padding: 10px; background-color: #f9fff3; margin-top: 10px;\">\n",
    "  <h2 style=\"margin: 0;\">Task 2: Use Transfer Function to Plot in Python</h2>\n",
    "</div>\n"
   ]
  },
  {
   "cell_type": "markdown",
   "metadata": {},
   "source": [
    "In previous classes, we always need to get the time domain output $y(t)$ expression, then plot in Python.\n",
    "\n",
    "Now, if we already have a **Transfer Function** of a system, we can use some built-in Python functions to plot commonly response.\n",
    "\n",
    "The Python package to use is ```scipy.signal```"
   ]
  },
  {
   "cell_type": "code",
   "execution_count": 2,
   "metadata": {},
   "outputs": [],
   "source": [
    "## Run this code to import\n",
    "import scipy.signal as sig"
   ]
  },
  {
   "cell_type": "markdown",
   "metadata": {},
   "source": [
    "Specifically, we use these:\n",
    "\n",
    "* ```scipy.signal.lti``` : this creates a Transfer Function object.\n",
    "* ```scipy.signal.impulse```: this generates a unit impulse response (the output when input is unit impulse)\n",
    "* ```scipy.signal.step```: the generates a unit step response (the output when input is unit step)"
   ]
  },
  {
   "cell_type": "markdown",
   "metadata": {},
   "source": [
    "**Example 1**\n",
    "\n",
    "Revisit the pool ball hitting problem\n",
    "\n",
    "* You got its transfer function in Task 1\n",
    "* The input is a impulse signal. The impulse is $0.5\\delta(t) $\n",
    "\n",
    "Let's use Python ```scipy.signal.lti``` and ```scipy.signal.impulse``` to plot its output."
   ]
  },
  {
   "cell_type": "code",
   "execution_count": 3,
   "metadata": {},
   "outputs": [
    {
     "data": {
      "image/png": "[encoded data removed]",
      "text/plain": [
       "<Figure size 640x480 with 1 Axes>"
      ]
     },
     "metadata": {},
     "output_type": "display_data"
    }
   ],
   "source": [
    "b = 0.12\n",
    "m = 0.272\n",
    "\n",
    "# check the official doc of scipy.signal.lti to fill it\n",
    "num1 = [ 1/m ]\n",
    "den1 = [ 1, b/m ]\n",
    "H_s1 = sig.lti(num1, den1)\n",
    "\n",
    "# create time array for 10 seconds\n",
    "t1 = np.linspace(0, 10, 1000)\n",
    "\n",
    "# sig.impulse has 2 output, first output t can be discard\n",
    "_, v_t = sig.impulse(H_s1, T=t1)\n",
    "\n",
    "## Scale the unit impulse to 0.5delta(t)\n",
    "v_t = 0.5*v_t\n",
    "plt.plot(t1, v_t)\n",
    "\n",
    "# Others\n",
    "plt.title(\"Velocity of the Ball\")  \n",
    "plt.xlabel(\"Time (s)\")  \n",
    "plt.ylabel(\"Velocity (m/s)\")  \n",
    "plt.grid(True)"
   ]
  },
  {
   "cell_type": "markdown",
   "metadata": {},
   "source": [
    "<span style=\"border-left: 4px solid #FFA500; padding: 5px; background-color: #FFF4E5; display: inline-block;\">\n",
    "    <strong>Fill Code and generate graph: 1.5 pt</strong>\n",
    "</span>"
   ]
  },
  {
   "cell_type": "markdown",
   "metadata": {},
   "source": [
    "**Example 2**\n",
    "\n",
    "Revisit the heating of car inside problem\n",
    "\n",
    "* You got its transfer function in Task 1\n",
    "* The input is a step signal. The step is $6000u(t)$\n",
    "\n",
    "Let's use Python ```scipy.signal.lti``` and ```scipy.signal.step``` to plot its output."
   ]
  },
  {
   "cell_type": "code",
   "execution_count": 4,
   "metadata": {},
   "outputs": [
    {
     "data": {
      "image/png": "[encoded data removed]",
      "text/plain": [
       "<Figure size 640x480 with 1 Axes>"
      ]
     },
     "metadata": {},
     "output_type": "display_data"
    }
   ],
   "source": [
    "C = 10000\n",
    "G = 200\n",
    "\n",
    "# check the official doc of scipy.signal.lti to fill it\n",
    "num2 = [ 1/C ]\n",
    "den2 = [ 1, G/C ]\n",
    "H_s2 = sig.lti(num2, den2)\n",
    "\n",
    "# create time array for 1000 seconds\n",
    "t2 = np.linspace(0, 1000, 1000)\n",
    "\n",
    "# sig.step has 2 output, first output t can be discard\n",
    "_, Temp_t = sig.step(H_s2, T=t2)\n",
    "\n",
    "## Scale the unit step u(t) to 6k u(t)\n",
    "Temp_t = 6000*Temp_t\n",
    "plt.plot(t2, Temp_t)\n",
    "\n",
    "# Others\n",
    "plt.title(\"Temperature Change Over Time\")\n",
    "plt.xlabel(\"Time (s)\")\n",
    "plt.ylabel(\"Temperature Change (C degree)\")\n",
    "plt.grid(True)"
   ]
  },
  {
   "cell_type": "markdown",
   "metadata": {},
   "source": [
    "<span style=\"border-left: 4px solid #FFA500; padding: 5px; background-color: #FFF4E5; display: inline-block;\">\n",
    "    <strong>Fill Code and generate graph: 1.5 pt</strong>\n",
    "</span>"
   ]
  },
  {
   "cell_type": "markdown",
   "metadata": {},
   "source": [
    "**You can verify your generated graphs with previous notebooks. They should look the Same.**"
   ]
  },
  {
   "cell_type": "markdown",
   "metadata": {},
   "source": [
    "<div style=\"border-left: 4px solid #28a745; padding: 10px; background-color: #f9fff3; margin-top: 10px;\">\n",
    "  <h2 style=\"margin: 0;\">Task 3: Advanced Plot</h2>\n",
    "</div>"
   ]
  },
  {
   "cell_type": "markdown",
   "metadata": {},
   "source": [
    "If you have \n",
    "\n",
    "* Known Transfer Function $H(s) = \\frac{Y(s)}{X(s)}$\n",
    "* Mixed input signal. For example input $x(t) = 5\\delta(t)+9u(t)$\n",
    "\n",
    "If you want to plot the output $y(t)$.\n",
    "\n",
    "One way is go thru procudures: the Laplace Transform -> Solve for $Y(s)$ -> Inverse Laplace Transform. Such that get $y(t)$, then plot it in Python."
   ]
  },
  {
   "cell_type": "markdown",
   "metadata": {},
   "source": [
    "----\n",
    "\n",
    "An easier way is using the **Principles of Linear Systems**. \n",
    "\n",
    "Firstly, if a system has a Laplace Transfer Function, then it must be a linear system.\n",
    "\n",
    "So it inherently follows the principle of linear systems.\n",
    "\n",
    "* If $ \\text{Input } x_1(t) \\to \\text{System Model} \\to \\text{Output }y_1(t)$;\n",
    "  $ \\text{Input } x_2(t) \\to \\text{System Model} \\to \\text{Output }y_2(t)$, Then for any constants $a$ and $b$,\n",
    "  $ \\text{Input } ax_1(t)+bx_2(t) \\to \\text{System Model} \\to \\text{Output } ay_1(t)+by_2(t)$\n",
    "\n",
    "In short, this means **Scaling and Addition of inputs result in Same Scaling and Addition of outputs**"
   ]
  },
  {
   "cell_type": "markdown",
   "metadata": {},
   "source": [
    "--------\n",
    "Back to our problem: if input is  $x(t) = 5\\delta(t)+9u(t)$, we want to plot the output $y(t)$\n",
    "\n",
    "You can first Python plot unit impulse and unit step separately, and combine them together.\n",
    "\n",
    "```python\n",
    "# This is Pseudo-code example\n",
    "H_s = ...\n",
    "t = np.linspace(...)\n",
    "\n",
    "_, y_1_t = sig.impulse(H_s, T=t)\n",
    "_, y_2_t = sig.step(H_s, T=t)\n",
    "y_final_t = 5*y_1_t + 9*y_2_t\n",
    "plt.plot(t, y_final_t)\n",
    "```"
   ]
  },
  {
   "cell_type": "markdown",
   "metadata": {},
   "source": [
    "<div style=\"border-left: 4px solid #28a745; padding: 10px; background-color: #f9fff3; margin-top: 10px;\">\n",
    "  <h2 style=\"margin: 0;\">Submit in .pdf</h2>\n",
    "</div>\n",
    "\n",
    "\n"
   ]
  }
 ],
 "metadata": {
  "kernelspec": {
   "display_name": "base",
   "language": "python",
   "name": "python3"
  },
  "language_info": {
   "codemirror_mode": {
    "name": "ipython",
    "version": 3
   },
   "file_extension": ".py",
   "mimetype": "text/x-python",
   "name": "python",
   "nbconvert_exporter": "python",
   "pygments_lexer": "ipython3",
   "version": "3.11.5"
  }
 },
 "nbformat": 4,
 "nbformat_minor": 4
}
