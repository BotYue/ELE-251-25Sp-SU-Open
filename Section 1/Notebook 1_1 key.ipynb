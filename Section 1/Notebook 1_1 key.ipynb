{
 "cells": [
  {
   "cell_type": "markdown",
   "metadata": {},
   "source": [
    "# Notebook 1_1"
   ]
  },
  {
   "cell_type": "markdown",
   "metadata": {},
   "source": [
    "## Course skills introduction"
   ]
  },
  {
   "cell_type": "markdown",
   "metadata": {},
   "source": [
    "#### Student Learning Outcomes\n",
    "* Learn how to enter Markdown cells in Jupyter Notebook\n",
    "* Learn how to enter Code cells in Jupyter Notebook\n",
    "* Learn how to place ChatGPT answers in Jupyter Notebook\n",
    "* Learn how to convert Jupyter Notebook to .pdf\n",
    "--------------------"
   ]
  },
  {
   "cell_type": "markdown",
   "metadata": {},
   "source": [
    "<div style=\"border-left: 4px solid #28a745; padding: 10px; background-color: #f9fff3; margin-top: 10px;\">\n",
    "  <h2 style=\"margin: 0;\">Task 1: Create Markdown Cells in Jupyter Notebook</h2>\n",
    "</div>\n",
    "\n",
    "The Jupyter Notebook is split up into cells.  \n",
    "There are two types of cells - Markdown and Code\n",
    "Text, pictures, and equations go into a Markdown cell  \n",
    "Markdown is markup language similar to HTML. \n",
    "\n",
    "Markdown and Code cells can be configured on the top bar."
   ]
  },
  {
   "cell_type": "markdown",
   "metadata": {},
   "source": [
    "<div style=\"border-left: 4px solid #28a745; padding: 10px; background-color: #f9fff3; margin-top: 10px;\"><strong>Task 1.1 Add a heading cell below this cell</strong> \n",
    "</div>\n",
    "\n",
    "A heading cell is a Markdown cell started with the # character  \n",
    "Two # characters (##) makes a second level heading  \n",
    "and three # characters (###) makes a third level heading, and so on...  \n",
    "  \n",
    "Add a Markdown cell below to create a fourth level heading that says \"My first heading\" "
   ]
  },
  {
   "cell_type": "markdown",
   "metadata": {},
   "source": [
    "#### My first heading"
   ]
  },
  {
   "cell_type": "markdown",
   "metadata": {},
   "source": [
    "<div style=\"border-left: 4px solid #28a745; padding: 10px; background-color: #f9fff3; margin-top: 10px;\"><strong>Task 1.2 Add a text cell below this cell</strong> \n",
    "</div>\n",
    "The grader will check if there are your names in the cell below  \n",
    "  \n",
    "There are multiple ways to change lines of plain text in Markdown cells. Ask ChatGPT how to do it.\n",
    "\n",
    " \n",
    "Add a Markdown cell below to type the names of the students in your group. <br>  \n",
    "make sure each name is on a new line "
   ]
  },
  {
   "cell_type": "markdown",
   "metadata": {},
   "source": [
    "Yue Cao  <br>\n",
    "Duane Marcy"
   ]
  },
  {
   "cell_type": "markdown",
   "metadata": {},
   "source": [
    "<div style=\"border-left: 4px solid #28a745; padding: 10px; background-color: #f9fff3; margin-top: 10px;\"><strong>Task 1.3 Add an math cell below this cell</strong> \n",
    "</div>\n",
    "\n",
    "You can type math equations in the Markdown cells.\n",
    "  \n",
    "You can enter in-line equations by surrounding the text with dollar signs, \\\\$  \n",
    "If you want the equation centered, you need to surround the text with two dollar signs, \\$\\$  \n",
    "Inside the dollar sign, Jupyter notebook will assume \"Latex\"  \n",
    "\n",
    "If you want to know how to write a specific math sign, you can\n",
    "* Refer to Overleaf, https://www.overleaf.com/learn/latex/Mathematical_expressions#Further_reading \n",
    "* Ask ChatGPT.\n",
    "\n",
    "Now, Add a Markdown cell below to type Albert Einstein’s Mass–energy equivalence equation, https://www.amnh.org/exhibitions/einstein/energy/e-mc2 "
   ]
  },
  {
   "cell_type": "markdown",
   "metadata": {},
   "source": [
    "$$ E = mc^2 $$"
   ]
  },
  {
   "cell_type": "markdown",
   "metadata": {},
   "source": [
    "<div style=\"border-left: 4px solid #28a745; padding: 10px; background-color: #f9fff3; margin-top: 10px;\"><strong>Extra Note</strong> \n",
    "</div>\n",
    "  \n",
    "Besides plain text and math, Markdown cells can also be used to enter:\n",
    "* image\n",
    "* table\n",
    "* hyperlink\n",
    "* ...\n",
    "\n",
    "----------------------"
   ]
  },
  {
   "cell_type": "markdown",
   "metadata": {},
   "source": [
    "<div style=\"border-left: 4px solid #28a745; padding: 10px; background-color: #f9fff3; margin-top: 10px;\">\n",
    "  <h2 style=\"margin: 0;\">Task 2: Create Code Cells in Jupyter Notebook</h2>\n",
    "</div>\n",
    "\n",
    "The second type of cell is a code cell.  \n",
    "It runs Python code.\n",
    "  \n",
    "For this course, we want to learn how to use Jupyter notebook as our scientific computation tool.  \n",
    "The intention is to get rid of a traditional calculator such as TI series in class.  \n",
    "\n",
    "Details of scientific computation libraries in Python will be covered in next notebook."
   ]
  },
  {
   "cell_type": "markdown",
   "metadata": {},
   "source": [
    "<div style=\"border-left: 4px solid #28a745; padding: 10px; background-color: #f9fff3; margin-top: 10px;\"><strong>Task 2.1 Run an code below</strong> \n",
    "</div>\n",
    "\n",
    "There we provide a Python code cell below. Run it to see the output."
   ]
  },
  {
   "cell_type": "code",
   "execution_count": 2,
   "metadata": {},
   "outputs": [
    {
     "name": "stdout",
     "output_type": "stream",
     "text": [
      "  Hostname: DESKTOP-PIUDVMP\n",
      "  Operating System: Windows\n",
      "  Current Time: 2025-01-15 00:01:05\n"
     ]
    }
   ],
   "source": [
    "import socket\n",
    "import platform\n",
    "from datetime import datetime\n",
    "print(f\"  Hostname: {socket.gethostname()}\")\n",
    "print(f\"  Operating System: {platform.system()}\")\n",
    "print(f\"  Current Time: {datetime.now().strftime('%Y-%m-%d %H:%M:%S')}\")"
   ]
  },
  {
   "cell_type": "markdown",
   "metadata": {},
   "source": [
    "<div style=\"border-left: 4px solid #28a745; padding: 10px; background-color: #f9fff3; margin-top: 10px;\">\n",
    "  <h2 style=\"margin: 0;\">Task 3: ChatGPT to Jupyter Notebook</h2>\n",
    "</div>\n",
    "\n",
    "Instead of reading traditional reading textbook,  \n",
    "this course requires you to use ChatGPT to prepare your own study notes."
   ]
  },
  {
   "cell_type": "markdown",
   "metadata": {},
   "source": [
    "<div style=\"border-left: 4px solid #28a745; padding: 10px; background-color: #f9fff3; margin-top: 10px;\"><strong>Task 3.1 Set up your ChatGPT</strong> \n",
    "</div>\n",
    "\n",
    "* Make sure you have ChatGPT plus.\n",
    "* Open ChatGPT in your browser. On the left panel, create a \"Project\"\n",
    "* In the project, you can see an icon -- \"Instruction\",  \n",
    "Add such text to it \"I am an undergraduate studying electrical engineering. I use this project to self-learn.\"  \n",
    "This will apply to all chats in this project"
   ]
  },
  {
   "cell_type": "markdown",
   "metadata": {},
   "source": [
    "<div style=\"border-left: 4px solid #28a745; padding: 10px; background-color: #f9fff3; margin-top: 10px;\"><strong>Task 3.2 Ask question and Save answers to Jupyter Noterbook</strong> \n",
    "</div>\n",
    "\n",
    "In the Chat window, ask this question\n",
    "> can you show me how to integrate 1/(x^2) in calculus \n",
    "\n",
    "You will see ChatGPT explains how to do it.\n",
    "(You can rename the Chat such as \"Week1 Study\" for better organization)\n",
    "\n",
    "The ChatGPT answer is in a format very close to Markdown.  \n",
    "We just need to process it a little bit.\n",
    "\n",
    "Scroll the ChatGPT screen to the ending line of the answer.\n",
    "You can see a copy icon.  \n",
    "\n",
    "* Copy the ChatGPT answer\n",
    "* Paste a .txt editor. Save it.\n",
    "* Run such code block to process your saved .txt"
   ]
  },
  {
   "cell_type": "code",
   "execution_count": 3,
   "metadata": {},
   "outputs": [
    {
     "name": "stdout",
     "output_type": "stream",
     "text": [
      "Conversion complete. Output saved to: week1saved1out.txt\n"
     ]
    }
   ],
   "source": [
    "import re\n",
    "\n",
    "INPUT_FILE = \"week1saved1.txt\"\n",
    "OUTPUT_FILE = \"week1saved1out.txt\"\n",
    "\n",
    "# Read the entire input file\n",
    "with open(INPUT_FILE, \"r\", encoding=\"utf-8\") as f:\n",
    "    text = f.read()\n",
    "\n",
    "converted_text = re.sub(\n",
    "    r\"\\\\\\((.*?)\\\\\\)\",\n",
    "    r\"$\\1$\",\n",
    "    text\n",
    ")\n",
    "\n",
    "converted_text = re.sub(\n",
    "    r\"\\\\\\[(.*?)\\\\\\]\",\n",
    "    r\"$$\\1$$\",\n",
    "    converted_text,\n",
    "    flags=re.DOTALL\n",
    ")\n",
    "\n",
    "# Write the converted text to the output file\n",
    "with open(OUTPUT_FILE, \"w\", encoding=\"utf-8\") as f:\n",
    "    f.write(converted_text)\n",
    "\n",
    "print(f\"Conversion complete. Output saved to: {OUTPUT_FILE}\")"
   ]
  },
  {
   "cell_type": "markdown",
   "metadata": {},
   "source": [
    "* Run that code above. It will generate a new output .txt.\n",
    "* Open the new .txt. Copy its content.\n",
    "* Here in Jupyter Notebook, create a Markdown cell and paste all content to it.\n",
    "* Now the ChatGPT answer is saved in your Jupyter Notebook. \n",
    "\n",
    "(For convenience, this code is also provide in Blackboard -> Course Info folder)"
   ]
  },
  {
   "cell_type": "markdown",
   "metadata": {},
   "source": [
    "To integrate $ \\frac{1}{x^2} $, we rewrite it using exponent notation and apply the power rule for integration. Here's how it works:\n",
    "\n",
    "### Step-by-Step Integration\n",
    "1. Rewrite $ \\frac{1}{x^2} $:\n",
    "   $$\n",
    "   \\frac{1}{x^2} = x^{-2}.\n",
    "   $$\n",
    "\n",
    "2. Use the power rule for integration:\n",
    "   $$\n",
    "   \\int x^n \\, dx = \\frac{x^{n+1}}{n+1} + C, \\quad \\text{where } n \\neq -1.\n",
    "   $$\n",
    "\n",
    "   Here, $ n = -2 $.\n",
    "\n",
    "3. Apply the formula:\n",
    "   $$\n",
    "   \\int x^{-2} \\, dx = \\frac{x^{-2+1}}{-2+1} + C = \\frac{x^{-1}}{-1} + C.\n",
    "   $$\n",
    "\n",
    "4. Simplify the expression:\n",
    "   $$\n",
    "   \\frac{x^{-1}}{-1} + C = -\\frac{1}{x} + C.\n",
    "   $$\n",
    "\n",
    "### Final Answer\n",
    "$$\n",
    "\\int \\frac{1}{x^2} \\, dx = -\\frac{1}{x} + C,\n",
    "$$\n",
    "where $ C $ is the constant of integration."
   ]
  },
  {
   "cell_type": "markdown",
   "metadata": {},
   "source": [
    "<div style=\"border-left: 4px solid #28a745; padding: 10px; background-color: #f9fff3; margin-top: 10px;\">\n",
    "  <h2 style=\"margin: 0;\">Task 4: Jupyter Notebook to .pdf</h2>\n",
    "</div>\n",
    "\n",
    "For grading, this course requires you to submit in-class notebook and Jupyter Notebook assignment in .pdf format.\n",
    "\n",
    "* The menu at the top of the Notebook has File, Edit, View, Run, etc.  \n",
    "Choose File $\\rightarrow$ Save and Export Notebook As... $\\rightarrow$  HTML  \n",
    "This should make an HTML file in your current folder . \n",
    "  \n",
    "* Open the HTML file (it will open in a browser)  \n",
    "Then use the browser to print as pdf  \n",
    "(In some computers, if cannot print html in correct pdf,  \n",
    "google \"html to pdf converter free\" and there are multiple websites can do it)\n",
    "\n",
    "* Turn in the pdf to Blackboard.\n",
    "\n"
   ]
  },
  {
   "cell_type": "markdown",
   "metadata": {},
   "source": []
  }
 ],
 "metadata": {
  "kernelspec": {
   "display_name": "Python 3 (ipykernel)",
   "language": "python",
   "name": "python3"
  },
  "language_info": {
   "codemirror_mode": {
    "name": "ipython",
    "version": 3
   },
   "file_extension": ".py",
   "mimetype": "text/x-python",
   "name": "python",
   "nbconvert_exporter": "python",
   "pygments_lexer": "ipython3",
   "version": "3.12.4"
  }
 },
 "nbformat": 4,
 "nbformat_minor": 4
}
