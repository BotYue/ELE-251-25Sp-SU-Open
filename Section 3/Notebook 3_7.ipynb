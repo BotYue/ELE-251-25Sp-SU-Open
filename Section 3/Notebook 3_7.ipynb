{
 "cells": [
  {
   "cell_type": "markdown",
   "metadata": {},
   "source": [
    "### Notebook 3_7"
   ]
  },
  {
   "cell_type": "markdown",
   "metadata": {},
   "source": [
    "## Continuous-Time to Discrete-Time Systems"
   ]
  },
  {
   "cell_type": "markdown",
   "metadata": {},
   "source": [
    "#### Student Learning Outcomes\n",
    "\n",
    "* Learn the open-loop control system design based on requirements.\n",
    "* Learn to convert a continuous-time system to a discrete-time system.\n",
    "--------------------"
   ]
  },
  {
   "cell_type": "code",
   "execution_count": null,
   "metadata": {
    "tags": []
   },
   "outputs": [],
   "source": [
    "# import at first\n",
    "import numpy as np\n",
    "import matplotlib.pyplot as plt\n",
    "import scipy.signal as sig"
   ]
  },
  {
   "cell_type": "markdown",
   "metadata": {},
   "source": [
    "<div style=\"border-left: 4px solid #28a745; padding: 10px; background-color: #f9fff3; margin-top: 10px;\">\n",
    "  <h2 style=\"margin: 0;\">Task 1: Open-Loop Control System</h2>\n",
    "</div>\n"
   ]
  },
  {
   "cell_type": "markdown",
   "metadata": {},
   "source": [
    "When we apply an input—such as a unit step—to a physical system, the system responds based on its inherent physical properties.\n",
    "\n",
    "However, if we want to change that response, for example:\n",
    "- Make the system react faster  \n",
    "- Reduce the overshoot  \n",
    "- Minimize oscillations  \n",
    "- And more...\n",
    "\n",
    "Then we need to introduce **Control**.\n",
    "\n",
    "A basic approach to this is the **Open-Loop Control System**, where we add a new system called a **controller**. This controller is placed before the original system and is designed to adjust the overall system behavior."
   ]
  },
  {
   "attachments": {
    "a19e8913-7a55-4527-8b89-d9b06ce4a881.png": {
     "image/png": "[encoded data removed]"
    }
   },
   "cell_type": "markdown",
   "metadata": {},
   "source": [
    "![image.png](attachment:a19e8913-7a55-4527-8b89-d9b06ce4a881.png)"
   ]
  },
  {
   "cell_type": "markdown",
   "metadata": {},
   "source": [
    "----------------\n",
    "#### Example of Controller Design\n",
    "\n",
    "Consider you have a physical system in second order. \n",
    "\n",
    "$$H_{sys}(s) = \\frac{25.6}{s^2 + 0.688s + 2.56}$$\n",
    "\n",
    "Its unit step response can be seen using the next code cell."
   ]
  },
  {
   "cell_type": "code",
   "execution_count": null,
   "metadata": {},
   "outputs": [],
   "source": [
    "# Run this code directly\n",
    "num_sys = [25.6]\n",
    "den_sys = [1, 0.688, 2.56]\n",
    "H_sys = sig.lti(num_sys, den_sys)\n",
    "t = np.linspace(0, 15, 1000)\n",
    "_, y_sys = sig.step(H_sys, T=t)\n",
    "plt.figure(figsize=(12, 6))\n",
    "plt.plot(t, y_sys)\n",
    "plt.ylim(-1, 15)\n",
    "plt.ylim(-2, 16)\n",
    "plt.minorticks_on()\n",
    "plt.grid()"
   ]
  },
  {
   "cell_type": "markdown",
   "metadata": {},
   "source": [
    "Read from the response plot\n",
    "* **Percentage Overshoot (PO)**: ??\n",
    "* **Peak Time**: ??"
   ]
  },
  {
   "cell_type": "markdown",
   "metadata": {},
   "source": [
    "<span style=\"border-left: 4px solid #FFA500; padding: 5px; background-color: #FFF4E5; display: inline-block;\">\n",
    "    <strong>Read Plot: 1 pt</strong>\n",
    "</span>"
   ]
  },
  {
   "cell_type": "markdown",
   "metadata": {},
   "source": [
    "---------\n",
    "Now, we are not satisfied with such response of the original system. We want to design a open-loop controller and change the overall system response.\n",
    "\n",
    "The specific **Design Requirements** for the overall system response are:\n",
    "* **Percentage Overshoot (PO)**: reduces to 20%\n",
    "* **Peak Time**: keep the same\n"
   ]
  },
  {
   "cell_type": "markdown",
   "metadata": {},
   "source": [
    "To do so, we can set the controller's transfer function as:\n",
    "$$H_c(s) = \\frac{s^2 + 0.688s + 2.56}{s^2+2\\zeta\\omega_n s+\\omega_n^2}$$"
   ]
  },
  {
   "cell_type": "markdown",
   "metadata": {},
   "source": [
    "Since they are cascade connected, the overall transfer function becomes:\n",
    "$$H(s) = H_c(s)H_{sys}(s)=\\frac{s^2 + 0.688s + 2.56}{s^2+2\\zeta\\omega_n s+\\omega_n^2}\\frac{25.6}{s^2 + 0.688s + 2.56} =\\frac{25.6}{s^2+2\\zeta\\omega_n s+\\omega_n^2}$$"
   ]
  },
  {
   "cell_type": "markdown",
   "metadata": {},
   "source": [
    "Now it is your job to:\n",
    "* Calculate the $\\zeta$ and $\\omega_n$ based on the **Design Requirements**.\n",
    "* Write down the expression of controller $H_c(s)$, and overall transfer function $H(s)$"
   ]
  },
  {
   "cell_type": "markdown",
   "metadata": {},
   "source": [
    "<span style=\"border-left: 4px solid #FFA500; padding: 5px; background-color: #FFF4E5; display: inline-block;\">\n",
    "    <strong>Result: 1 pt</strong>\n",
    "</span>"
   ]
  },
  {
   "cell_type": "markdown",
   "metadata": {},
   "source": [
    "Then verify your overall transfer function $H(s)$ using this code cell. You should see the response match the Design Requirements."
   ]
  },
  {
   "cell_type": "code",
   "execution_count": null,
   "metadata": {},
   "outputs": [],
   "source": [
    "# Fill the first 2 lines and run\n",
    "num_all = ??\n",
    "den_all = ??\n",
    "H_all = sig.lti(num_all, den_all)\n",
    "t = np.linspace(0, 15, 1000)\n",
    "_, y_all = sig.step(H_all, T=t)\n",
    "plt.figure(figsize=(12, 6))\n",
    "plt.plot(t, y_all)\n",
    "plt.ylim(-1, 15)\n",
    "plt.ylim(-2, 16)\n",
    "plt.minorticks_on()\n",
    "plt.grid()"
   ]
  },
  {
   "cell_type": "markdown",
   "metadata": {},
   "source": [
    "<span style=\"border-left: 4px solid #FFA500; padding: 5px; background-color: #FFF4E5; display: inline-block;\">\n",
    "    <strong>Plot: 0.5 pt</strong>\n",
    "</span>"
   ]
  },
  {
   "cell_type": "markdown",
   "metadata": {},
   "source": [
    "<div style=\"border-left: 4px solid #28a745; padding: 10px; background-color: #f9fff3; margin-top: 10px;\">\n",
    "  <h2 style=\"margin: 0;\">Task 2: From Continuous-Time Controller to Digital Implementation</h2>\n",
    "</div>"
   ]
  },
  {
   "cell_type": "markdown",
   "metadata": {},
   "source": [
    "In **Task 1**, you designed a controller $H_c(s)$ in the **continuous-time**. This controller changes the overall system response.\n",
    "\n",
    "However, in real-world applications, many modern control systems are implemented on **digital hardware** like microcontrollers, DSPs, or embedded computers. Thus, you need to find a way to implement $H_c(s)$ with **discrete-time signals**."
   ]
  },
  {
   "attachments": {
    "d03daebe-0c84-435b-b006-d48e01ba4259.png": {
     "image/png": "[encoded data removed]"
    }
   },
   "cell_type": "markdown",
   "metadata": {},
   "source": [
    "![image.png](attachment:d03daebe-0c84-435b-b006-d48e01ba4259.png)"
   ]
  },
  {
   "cell_type": "markdown",
   "metadata": {},
   "source": [
    "----\n",
    "\n",
    "#### From $H(s)$ to Implementation"
   ]
  },
  {
   "cell_type": "markdown",
   "metadata": {},
   "source": [
    "One common approach is to first **convert the continuous-time transfer function** $H(s)$ into a **discrete-time transfer function** $H(z)$.\n",
    "\n",
    "After obtaining $H(z)$, you can express it as a **difference equation**. Then it can be directly implemented in code.\n"
   ]
  },
  {
   "cell_type": "markdown",
   "metadata": {},
   "source": [
    "In Python's `scipy.signal`, the function `scipy.signal.cont2discrete()` is used to convert a **continuous-time transfer function** $H(s)$ into a **discrete-time transfer function** $H(z)$. \n",
    "\n",
    "It supports **several methods**, each based on a different mathematical approximation of how continuous-time behavior maps to discrete time. https://docs.scipy.org/doc/scipy/reference/generated/scipy.signal.cont2discrete.html"
   ]
  },
  {
   "cell_type": "markdown",
   "metadata": {},
   "source": [
    "----------------\n",
    "#### Example of Controller Implementation\n",
    "\n",
    "We will continue the system problem in Task 1.\n",
    "\n",
    "First, use `scipy.signal.cont2discrete()` to convert your $H_c(s)$ with:\n",
    "* Sampling Period 0.1 second\n",
    "* Use `bilinear` method\n",
    "* print out the converted result"
   ]
  },
  {
   "cell_type": "markdown",
   "metadata": {},
   "source": [
    "<span style=\"border-left: 4px solid #FFA500; padding: 5px; background-color: #FFF4E5; display: inline-block;\">\n",
    "    <strong>Python Result: 1 pt</strong>\n",
    "</span>"
   ]
  },
  {
   "cell_type": "markdown",
   "metadata": {},
   "source": [
    "Note, the function doesn't accept lti object. You should specify the first entry as a tuple: `sig.cont2discrete((num, den), ..., ...)`"
   ]
  },
  {
   "cell_type": "markdown",
   "metadata": {},
   "source": [
    "The function gives 3 outputs\n",
    "- `b = [b₀, b₁, ..., bₘ]` → $H(z)$ Numerator coefficients\n",
    "- `a = [1, a₁, a₂, ..., aₙ]` → $H(z)$ Denominator coefficients\n",
    "- `dt = Ts` → Sampling Time\n",
    "\n",
    "So, the converted $H(z)$ transfer function is:\n",
    "$$H(z) = \\frac{Y(z)}{X(z)}=\\frac{b_0 + b_1 z^{-1} + b_2 z^{-2} + \\cdots + b_m z^{-m}}{1 + a_1 z^{-1} + a_2 z^{-2} + \\cdots + a_n z^{-n}}$$\n",
    "\n",
    "The difference equation can be obtained:\n",
    "$$y[n] = b_0 x[n] + b_1 x[n-1] + b_2 x[n-2] + \\cdots + b_m x[n-m] - a_1 y[n-1] - a_2 y[n-2] - \\cdots - a_n y[n-n]$$\n",
    "\n",
    "------\n",
    "Now, it is your job to type the difference equation of the previous problem in a Markdown cell and then fill it in code."
   ]
  },
  {
   "cell_type": "markdown",
   "metadata": {},
   "source": [
    "<span style=\"border-left: 4px solid #FFA500; padding: 5px; background-color: #FFF4E5; display: inline-block;\">\n",
    "    <strong>Markdown Equation: 0.5 pt</strong>\n",
    "</span>"
   ]
  },
  {
   "cell_type": "code",
   "execution_count": null,
   "metadata": {},
   "outputs": [],
   "source": [
    "# You only need to fill the Controller difference equation part \n",
    "# Re-use continuous-time H_sys\n",
    "# Sampling settings\n",
    "Ts = 0.1\n",
    "n_samples = 100\n",
    "\n",
    "# Unit step input\n",
    "x = np.ones(n_samples)\n",
    "\n",
    "y = np.zeros(n_samples)      \n",
    "y_all = np.zeros(n_samples)   \n",
    "x_p = np.zeros(2)            \n",
    "\n",
    "# Initial conditions\n",
    "x_n_minus_1 = 0\n",
    "x_n_minus_2 = 0\n",
    "y_n_minus_1 = 0\n",
    "y_n_minus_2 = 0\n",
    "\n",
    "# Loop over time steps\n",
    "for n in range(n_samples):\n",
    "    x_n = x[n]  # Current input value\n",
    "\n",
    "    # Controller difference equation\n",
    "    y_n = (\n",
    "        ?? * x_n +\n",
    "        ?? * x_n_minus_1 +\n",
    "        ?? * x_n_minus_2 -\n",
    "        ?? * y_n_minus_1 -\n",
    "        ?? * y_n_minus_2\n",
    "    )\n",
    "\n",
    "    # Update \n",
    "    x_n_minus_2 = x_n_minus_1\n",
    "    x_n_minus_1 = x_n\n",
    "    y_n_minus_2 = y_n_minus_1\n",
    "    y_n_minus_1 = y_n\n",
    "\n",
    "    y[n] = y_n  \n",
    "\n",
    "    # Apply y[n] to the continuous-time plant over one sampling period\n",
    "    t = np.linspace(0, Ts, 100)\n",
    "    u_vec = y_n * np.ones_like(t)\n",
    "    _, y_vec, x_vec = sig.lsim(H_sys, U=u_vec, T=t, X0=x_p)\n",
    "    y_sampled = y_vec[-1]\n",
    "    x_p = x_vec[-1]\n",
    "\n",
    "    y_all[n] = y_sampled  \n",
    "\n",
    "# Plotting\n",
    "n = np.arange(n_samples)\n",
    "plt.figure(figsize=(10, 6))\n",
    "plt.ylim(-2, 16)\n",
    "plt.stem(n, y_all, linefmt='tab:blue', markerfmt='bo', basefmt=' ')\n",
    "plt.xlabel('Discrete Time Index n')\n",
    "plt.ylabel('Amplitude')\n",
    "plt.title('Open-Loop Control System Response')\n",
    "plt.grid(True)"
   ]
  },
  {
   "cell_type": "markdown",
   "metadata": {},
   "source": [
    "<span style=\"border-left: 4px solid #FFA500; padding: 5px; background-color: #FFF4E5; display: inline-block;\">\n",
    "    <strong>Plot: 1 pt</strong>\n",
    "</span>"
   ]
  },
  {
   "cell_type": "markdown",
   "metadata": {},
   "source": [
    "----------\n",
    "In your final plot, notice one index gap is 0.1 seconds. So 20 indexes correspond to 2 seconds, 100 indexes correspond to 10 seconds. \n",
    "\n",
    "Do you final plot still match the previous Design Requirements in Task 1?\n",
    "\n",
    "If you **still have time in class**, explore other methods in `scipy.signal.cont2discrete()` for Task 2. Your final submission can be based on any of those methods, not limited to `bilinear`"
   ]
  },
  {
   "cell_type": "markdown",
   "metadata": {},
   "source": [
    "<div style=\"border-left: 4px solid #28a745; padding: 10px; background-color: #f9fff3; margin-top: 10px;\">\n",
    "  <h2 style=\"margin: 0;\">Submit in .pdf</h2>\n",
    "</div>\n",
    "\n",
    "\n"
   ]
  }
 ],
 "metadata": {
  "kernelspec": {
   "display_name": "Python 3 (ipykernel)",
   "language": "python",
   "name": "python3"
  },
  "language_info": {
   "codemirror_mode": {
    "name": "ipython",
    "version": 3
   },
   "file_extension": ".py",
   "mimetype": "text/x-python",
   "name": "python",
   "nbconvert_exporter": "python",
   "pygments_lexer": "ipython3",
   "version": "3.12.4"
  }
 },
 "nbformat": 4,
 "nbformat_minor": 4
}
