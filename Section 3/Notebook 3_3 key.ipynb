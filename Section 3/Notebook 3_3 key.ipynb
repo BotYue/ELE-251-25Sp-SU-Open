{
 "cells": [
  {
   "cell_type": "markdown",
   "metadata": {},
   "source": [
    "### Notebook 3_3"
   ]
  },
  {
   "cell_type": "markdown",
   "metadata": {},
   "source": [
    "## State Space Model"
   ]
  },
  {
   "cell_type": "markdown",
   "metadata": {},
   "source": [
    "#### Student Learning Outcomes\n",
    "* Learn to represent the State Space Model\n",
    "* Learn how to obtain the response of State Space Model in Python\n",
    "--------------------"
   ]
  },
  {
   "cell_type": "code",
   "execution_count": 1,
   "metadata": {
    "tags": []
   },
   "outputs": [],
   "source": [
    "# import at first\n",
    "import numpy as np\n",
    "import matplotlib.pyplot as plt\n",
    "import scipy.signal as sig"
   ]
  },
  {
   "cell_type": "markdown",
   "metadata": {},
   "source": [
    "<div style=\"border-left: 4px solid #28a745; padding: 10px; background-color: #f9fff3; margin-top: 10px;\">\n",
    "  <h2 style=\"margin: 0;\">Task 1: Matrix Operations in Numpy</h2>\n",
    "</div>\n"
   ]
  },
  {
   "cell_type": "markdown",
   "metadata": {},
   "source": [
    "**Create a matrix using numpy**\n",
    "\n",
    "Use ```numpy.array```\n",
    "\n",
    "For example, create such matrix $$P = \\begin{bmatrix} 1 & 2 \\\\ 3 & 4 \\end{bmatrix}$$"
   ]
  },
  {
   "cell_type": "code",
   "execution_count": 2,
   "metadata": {
    "tags": []
   },
   "outputs": [
    {
     "name": "stdout",
     "output_type": "stream",
     "text": [
      "[[1 2]\n",
      " [3 4]]\n"
     ]
    }
   ],
   "source": [
    "# type matrix P\n",
    "P = np.array([[1, 2], [3, 4]])\n",
    "print(P)"
   ]
  },
  {
   "cell_type": "markdown",
   "metadata": {
    "tags": []
   },
   "source": [
    "-------\n",
    "**Matrix multiplication**\n",
    "\n",
    "For example, create two matrices \n",
    "\n",
    "$$Q = \\begin{bmatrix} 10 & 2 \\\\ 30 & 4 \\end{bmatrix},\\: R = \\begin{bmatrix} 0.5 \\\\ 0.1 \\end{bmatrix}$$\n"
   ]
  },
  {
   "cell_type": "markdown",
   "metadata": {},
   "source": [
    "First Hand calculate their multiplication as:\n",
    "\n",
    "$$Q R= \\begin{bmatrix} 10 & 2 \\\\ 30 & 4 \\end{bmatrix}\\begin{bmatrix} 0.5 \\\\ 0.1 \\end{bmatrix}=\\begin{bmatrix} 10\\cdot 0.5 + 2\\cdot 0.1 \\\\ 30\\cdot 0.5 + 4\\cdot 0.1 \\end{bmatrix}$$\n",
    "\n",
    "$$Q R= \\begin{bmatrix} 5.2 \\\\ 15.4 \\end{bmatrix}$$\n",
    "\n",
    "Then use the Python to check the calculation. Note, matrix multiplication is done by ```numpy.matmul``` or ```@``` operator, not directly using ```*``` operator. See https://numpy.org/doc/stable/reference/generated/numpy.matmul.html"
   ]
  },
  {
   "cell_type": "code",
   "execution_count": 4,
   "metadata": {
    "tags": []
   },
   "outputs": [
    {
     "name": "stdout",
     "output_type": "stream",
     "text": [
      "[[ 5.2]\n",
      " [15.4]]\n"
     ]
    }
   ],
   "source": [
    "## Fill the Python code\n",
    "Q = np.array([[10, 2], [30, 4]])\n",
    "R = np.array([[0.5], [0.1]])\n",
    "\n",
    "## Then multiply and print out result\n",
    "# use numpy.matmul or @ operator\n",
    "print(Q@R)"
   ]
  },
  {
   "cell_type": "markdown",
   "metadata": {},
   "source": [
    "<span style=\"border-left: 4px solid #FFA500; padding: 5px; background-color: #FFF4E5; display: inline-block;\">\n",
    "    <strong>Markdown result and Python printout: 1 pt</strong>\n",
    "</span>"
   ]
  },
  {
   "cell_type": "markdown",
   "metadata": {},
   "source": [
    "<div style=\"border-left: 4px solid #28a745; padding: 10px; background-color: #f9fff3; margin-top: 10px;\">\n",
    "  <h2 style=\"margin: 0;\">Task 2: Intro to State Space Model</h2>\n",
    "</div>"
   ]
  },
  {
   "cell_type": "markdown",
   "metadata": {},
   "source": [
    "In most of this course, we study **linear time-invariant (LTI) systems** using the **Transfer Function**:\n",
    "\n",
    "**$$H(s) = \\frac{Y(s)}{X(s)}$$**\n",
    "\n",
    "This represetation works well for **single-input, single-output (SISO)** systems. However, in more complex cases—such as systems with  **multiple inputs and multiple outputs (MIMO)** —it will be hard for the Transfer Function to deal with.\n",
    "\n",
    "To handle such systems, a new representation can use used. It is in **matrix-vector form** and is called the **state-space model**.\n",
    "\n",
    "State-space model is a tech rising from 1960s and considered as a more \"modern\" approach compared to the traditional Transfer Function representation. \n",
    "\n",
    "One notable early usage is controlling the  Apollo 11 moon-landing flight in 1969. You can visit their code https://github.com/chrislgarry/Apollo-11 and search for the keyword ```STATE VECTOR```\n"
   ]
  },
  {
   "cell_type": "markdown",
   "metadata": {},
   "source": [
    "-------------\n",
    "There are many engineering problems that can be treated as MIMO systems. Let's use ChatGPT to check it.\n",
    "\n",
    "> Ask the following 3 questions to ChatGPT.\n",
    "\n",
    "```\n",
    "* Is Autonomous Car a MIMO system in engineering? If so, what are the inputs and outputs? Answer in short.\n",
    "* Is Aircraft Flight Control a MIMO system in engineering? If so, what are the inputs and outputs? Answer in short.\n",
    "* Is HVAC Control a MIMO system in engineering? If so, what are the inputs and outputs? Answer in short.\n",
    "```"
   ]
  },
  {
   "cell_type": "markdown",
   "metadata": {},
   "source": [
    "Create a Markdown cell below and provide the answers in a clear format."
   ]
  },
  {
   "cell_type": "markdown",
   "metadata": {},
   "source": [
    "---\n",
    "\n",
    "#### Autonomous Car\n",
    "\n",
    "**Inputs:**  \n",
    "- Steering angle  \n",
    "- Acceleration/brake commands  \n",
    "- Sensor data (e.g., LiDAR, cameras, GPS)\n",
    "\n",
    "**Outputs:**  \n",
    "- Vehicle position and velocity  \n",
    "- Orientation (yaw, pitch, roll)  \n",
    "- Obstacle proximity/status\n",
    "\n",
    "---\n",
    "\n",
    "#### Aircraft Flight Control\n",
    "\n",
    "**Inputs:**  \n",
    "- Control surface deflections (elevator, aileron, rudder)  \n",
    "- Thrust commands  \n",
    "- Sensor feedback (e.g., gyroscopes, accelerometers)\n",
    "\n",
    "**Outputs:**  \n",
    "- Aircraft orientation (pitch, roll, yaw)  \n",
    "- Altitude and airspeed  \n",
    "- Trajectory position (x, y, z coordinates)\n",
    "\n",
    "---\n",
    "\n",
    "#### HVAC Control\n",
    "\n",
    "**Inputs:**  \n",
    "- Heater/cooler power levels  \n",
    "- Fan speeds  \n",
    "- External temperature or humidity\n",
    "\n",
    "**Outputs:**  \n",
    "- Room temperatures  \n",
    "- Air humidity levels  \n",
    "- Airflow rates in different zones"
   ]
  },
  {
   "cell_type": "markdown",
   "metadata": {},
   "source": [
    "<span style=\"border-left: 4px solid #FFA500; padding: 5px; background-color: #FFF4E5; display: inline-block;\">\n",
    "    <strong>MIMO answers: 1.5 pt</strong>\n",
    "</span>"
   ]
  },
  {
   "cell_type": "markdown",
   "metadata": {},
   "source": [
    "---------\n",
    "Formally, a state-space mode is:\n",
    "\n",
    "$$\\begin{aligned}\n",
    "\\dot{\\mathbf{x}}(t) &= A \\mathbf{x}(t) + B \\mathbf{u}(t) \\\\\n",
    "\\mathbf{y}(t) &= C \\mathbf{x}(t) + D \\mathbf{u}(t)\n",
    "\\end{aligned}$$\n",
    "\n",
    "- The **input** is denoted by $\\mathbf{u}(t)$,\n",
    "- The **output** is denoted by $\\mathbf{y}(t)$,\n",
    "- And we introduce a new concept called the **state**, denoted by $\\mathbf{x}(t)$.\n"
   ]
  },
  {
   "cell_type": "markdown",
   "metadata": {},
   "source": [
    "Here suppose we have:\n",
    "- $n$: number of **states**\n",
    "- $m$: number of **inputs**\n",
    "- $p$: number of **outputs**\n",
    "\n",
    "| Vector/Matrix |       Name                           | Dimension   (row $\\times$ column)|Description|    \n",
    "|--------|------------------|------------------|------------------|\n",
    "| $\\mathbf{x}(t)$  | State vector                                     | $ n \\times 1 $ | $n$ is the system's ODE order|\n",
    "| $ \\mathbf{u}(t)$  | Input vector                                     | $ m \\times 1 $ | $m$ indicates how many inputs are there|\n",
    "| $\\mathbf{y}(t)$  | Output vector                                    | $ p \\times 1 $ | $p$ indicates how many outputs are there|\n",
    "| **A**  | State matrix                                     | $n \\times n$ |represent how states affect each other\n",
    "| **B**  | Input matrix                                     | $n \\times m$ |represent how the inputs to the system affect the states\n",
    "| **C**  | Output matrix                                    | $p \\times n$ |represent the portions of the states that are measured by the outputs\n",
    "| **D**  | Feedthrough matrix      | $p \\times m$ |represent how the inputs directly affect the output without going thru the system"
   ]
  },
  {
   "cell_type": "markdown",
   "metadata": {},
   "source": [
    "* The states $\\mathbf{x}(t)$ in state-space models often represent physical quantities in the system.\n",
    "\n",
    "* In entry-level system analysis, the matrix **D** is commonly set as zero."
   ]
  },
  {
   "cell_type": "markdown",
   "metadata": {},
   "source": [
    "<div style=\"border-left: 4px solid #28a745; padding: 10px; background-color: #f9fff3; margin-top: 10px;\">\n",
    "  <h2 style=\"margin: 0;\">Task 3: SIMO system in State Space Model</h2>\n",
    "</div>"
   ]
  },
  {
   "cell_type": "markdown",
   "metadata": {},
   "source": [
    "-----------\n",
    "Instead of diving into MIMO systems, let's start with simple systems -- SIMO systems (single-input multi-output).\n",
    "\n",
    "(Note: in this course, we will only study SIMO. We won't go deep to MIMO.)\n",
    "\n",
    "--------------\n",
    "We start by reviewing the previous example in Notebook 1_3: using a pool stick to hit a ball\n",
    "\n",
    "https://github.com/BotYue/ELE-251-25Sp-SU-Open/blob/main/Section%201/Notebook%201_3_key.ipynb\n",
    "\n",
    "$$0.272\\cdot \\dfrac{dv(t)}{dt} + 0.12\\cdot v(t) = F_{\\mathrm{hit}}(t)$$\n",
    "\n",
    "* Input is the **force that hits the ball**, $F_{\\mathrm{hit}}(t)$\n",
    "\n",
    "Previous we assume the output is just the velocity of the ball $v(t)$\n",
    "\n",
    "Now we assume that we have an extra distance sensor that can measure the position of the ball.\n",
    "\n",
    "* Output are the **position of the ball**, $p(t)$, and the **velocity of the ball**, $v(t)$ "
   ]
  },
  {
   "cell_type": "markdown",
   "metadata": {},
   "source": [
    "----------\n",
    "Based on our problem setting, we can **start with defining vectors**:\n",
    "* Input vector $ \\mathbf{u}(t) = \\begin{bmatrix} F_{\\mathrm{hit}}(t) \\end{bmatrix} $ \n",
    "* Output vector  $ \\mathbf{y}(t) = \\begin{bmatrix} p(t) \\\\ v(t) \\end{bmatrix} $\n",
    "\n",
    "Next, we choose state variables:\n",
    "* $x_1(t) = p(t)$ (position)\n",
    "* $x_2(t) = v(t)$ (velocity)\n",
    "* State vector can be written as $ \\mathbf{x}(t) = \\begin{bmatrix} p(t) \\\\ v(t) \\end{bmatrix} $\n",
    "  \n",
    "With such state variables, we can write **state equations** based on the problem setting, where the **highest order in each equation is 1**. "
   ]
  },
  {
   "cell_type": "markdown",
   "metadata": {},
   "source": [
    "------\n",
    "**Then, write the state equations:**\n",
    "\n",
    "$$\\dot{x}_1(t) = \\dfrac{dp(t)}{dt} = v(t) = x_2(t)$$\n",
    "\n",
    "\\begin{align*}\n",
    "\\dot{x}_2(t) = \\frac{dv(t)}{dt} &= -\\frac{0.12}{0.272} v(t) + \\frac{1}{0.272} F_{\\mathrm{hit}}(t) \\\\&= -\\frac{0.12}{0.272} x_2(t) + \\frac{1}{0.272} u(t)\\\\&= -0.441 x_2(t) + 3.68 u(t)\n",
    "\\end{align*}"
   ]
  },
  {
   "cell_type": "markdown",
   "metadata": {},
   "source": [
    "-------\n",
    "**Finally, write it in state-space form:**\n",
    "$$\\dot{x}(t) = \\begin{bmatrix}\\dot{x}_1(t) \\\\\\dot{x}_2(t)\\end{bmatrix}=\\begin{bmatrix}x_2(t)\\\\-0.441 x_2(t) + 3.68 u(t)\\end{bmatrix} = \\underbrace{\\begin{bmatrix}0 & 1 \\\\0 & -0.441\\end{bmatrix}}_{A}x(t) +\\underbrace{\\begin{bmatrix}0 \\\\3.68\\end{bmatrix}}_{B}u(t)$$\n",
    "\n",
    "$$y(t) =\\underbrace{\\begin{bmatrix}1 & 0 \\\\0 & 1\\end{bmatrix}}_{C}x(t) +\\underbrace{\\begin{bmatrix}0 \\\\0\\end{bmatrix}}_{D}u(t)$$"
   ]
  },
  {
   "cell_type": "markdown",
   "metadata": {},
   "source": [
    "--------\n",
    "The state-space model can be typed into Python ```scipy.signal.lti```, then previous functions such as ```signal.impulse```, ```signal.step```, ```signal.lsim```, ... can all work on it.\n",
    "\n",
    "Now it is your job to fill the code below. The code will define a state space model and then plot the unit impulse response of it.\n",
    "\n",
    "Notice that your output vector is in 2 dimensions. So you need to plot each dimension separately."
   ]
  },
  {
   "cell_type": "markdown",
   "metadata": {},
   "source": [
    "<div style=\"border-left: 4px solid #FF0000; padding: 10px; background-color: #FFE5E5;\">\n",
    "<strong>[!CRITICAL]</strong> Type every numbers in A, B, C, D as float numbers, not int numbers. Otherwise Scipy may fail to generate response.\n",
    "</div>"
   ]
  },
  {
   "cell_type": "code",
   "execution_count": 6,
   "metadata": {},
   "outputs": [
    {
     "name": "stdout",
     "output_type": "stream",
     "text": [
      "StateSpaceContinuous(\n",
      "array([[ 0.   ,  1.   ],\n",
      "       [ 0.   , -0.441]]),\n",
      "array([[0.  ],\n",
      "       [3.68]]),\n",
      "array([[1., 0.],\n",
      "       [0., 1.]]),\n",
      "array([[0.],\n",
      "       [0.]]),\n",
      "dt: None\n",
      ")\n"
     ]
    },
    {
     "data": {
      "image/png": "[encoded data removed]",
      "text/plain": [
       "<Figure size 1200x500 with 2 Axes>"
      ]
     },
     "metadata": {},
     "output_type": "display_data"
    }
   ],
   "source": [
    "A = np.array([[0.0, 1.0], [0.0, -0.441]])\n",
    "B = np.array([[0.0], [3.68]])\n",
    "C = np.array([[1.0, 0.0], [0.0, 1.0]])\n",
    "D = np.array([[0.0], [0.0]]) \n",
    "SSModel = sig.lti(A, B, C, D)\n",
    "print(SSModel)\n",
    "\n",
    "# Impulse Response\n",
    "t = np.linspace(0, 10, 1000)\n",
    "_, y_out = sig.impulse(SSModel, T=t)\n",
    "\n",
    "# Plotting\n",
    "plt.figure(figsize=(12, 5))\n",
    "# Position subplot\n",
    "plt.subplot(2, 1, 1)\n",
    "plt.plot(t, y_out[:, 0], color=\"tab:blue\")\n",
    "plt.ylabel('Position (m)')\n",
    "plt.title('Impulse Response')\n",
    "plt.grid(True)\n",
    "\n",
    "# Velocity subplot\n",
    "plt.subplot(2, 1, 2)\n",
    "plt.plot(t, y_out[:, 1], color=\"tab:orange\")\n",
    "plt.ylabel('Velocity (m/s)')\n",
    "plt.xlabel('Time (s)')\n",
    "plt.grid(True)\n",
    "\n",
    "plt.tight_layout()"
   ]
  },
  {
   "cell_type": "markdown",
   "metadata": {},
   "source": [
    "<span style=\"border-left: 4px solid #FFA500; padding: 5px; background-color: #FFF4E5; display: inline-block;\">\n",
    "    <strong>Finish code and plot: 2.5 pt</strong>\n",
    "</span>"
   ]
  },
  {
   "cell_type": "markdown",
   "metadata": {},
   "source": [
    "<div style=\"border-left: 4px solid #28a745; padding: 10px; background-color: #f9fff3; margin-top: 10px;\">\n",
    "  <h2 style=\"margin: 0;\">Submit in .pdf</h2>\n",
    "</div>\n",
    "\n",
    "\n"
   ]
  }
 ],
 "metadata": {
  "kernelspec": {
   "display_name": "Python 3 (ipykernel)",
   "language": "python",
   "name": "python3"
  },
  "language_info": {
   "codemirror_mode": {
    "name": "ipython",
    "version": 3
   },
   "file_extension": ".py",
   "mimetype": "text/x-python",
   "name": "python",
   "nbconvert_exporter": "python",
   "pygments_lexer": "ipython3",
   "version": "3.11.5"
  }
 },
 "nbformat": 4,
 "nbformat_minor": 4
}
